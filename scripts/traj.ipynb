{
 "cells": [
  {
   "cell_type": "code",
   "execution_count": 6,
   "metadata": {},
   "outputs": [
    {
     "name": "stdout",
     "output_type": "stream",
     "text": [
      "--------------------------------------------------------------------------------\n",
      "name:\ttraj_viokf\n",
      "infos:\t232 poses, 8.192m path length, 1078.000s duration\n",
      "--------------------------------------------------------------------------------\n",
      "name:\tgt_traj\n",
      "infos:\t1083 poses, 148.337m path length, 1082.000s duration\n",
      "\u001b[0m"
     ]
    }
   ],
   "source": [
    "! evo_traj tum --ref ../output/gt_traj.txt ../output/traj_viokf.txt -p -as --plot_mode=xz"
   ]
  },
  {
   "cell_type": "code",
   "execution_count": 1,
   "metadata": {},
   "outputs": [
    {
     "name": "stdout",
     "output_type": "stream",
     "text": [
      "--------------------------------------------------------------------------------\n",
      "Loaded 111 stamps and poses from: ../output/traj_viokf.txt\n",
      "Loaded 1083 stamps and poses from: ../output/gt_traj.txt\n",
      "--------------------------------------------------------------------------------\n",
      "Found 111 of max. 111 possible matching timestamps between...\n",
      "\treference\n",
      "and:\t../output/traj_viokf.txt\n",
      "..with max. time diff.: 0.01 (s) and time offset: 0.0 (s).\n",
      "--------------------------------------------------------------------------------\n",
      "Aligning ../output/traj_viokf.txt to reference.\n",
      "Aligning using Umeyama's method... (with scale correction)\n",
      "Rotation of alignment:\n",
      "[[ 0.29473773  0.07824448  0.9523694 ]\n",
      " [-0.12981823 -0.98412354  0.12102927]\n",
      " [ 0.94671902 -0.1593068  -0.27990078]]\n",
      "Translation of alignment:\n",
      "[ 5.28929078  7.71874423 23.63646919]\n",
      "Scale correction: 22.601772041553115\n",
      "--------------------------------------------------------------------------------\n",
      "name:\ttraj_viokf\n",
      "infos:\n",
      "\tduration (s)\t1072.0\n",
      "\tnr. of poses\t111\n",
      "\tpath length (m)\t135.64901988466994\n",
      "\tpos_end (m)\t[14.50615353 -5.08386507 36.49668804]\n",
      "\tpos_start (m)\t[17.02422249 -0.52694215 20.99254393]\n",
      "\tt_end (s)\t1072.0\n",
      "\tt_start (s)\t0.0\n",
      "--------------------------------------------------------------------------------\n",
      "name:\tgt_traj\n",
      "infos:\n",
      "\tduration (s)\t1082.0\n",
      "\tnr. of poses\t1083\n",
      "\tpath length (m)\t148.33686384955274\n",
      "\tpos_end (m)\t[19.39664841 -3.80878592 23.96774292]\n",
      "\tpos_start (m)\t[19.20835686 -3.81126213 23.89383316]\n",
      "\tt_end (s)\t1082.0\n",
      "\tt_start (s)\t0.0\n",
      "\u001b[0m"
     ]
    }
   ],
   "source": [
    "!LOGGING_LEVEL=DEBUG evo_traj tum --ref ../output/gt_traj.txt ../output/traj_viokf.txt -as -v"
   ]
  },
  {
   "cell_type": "code",
   "execution_count": 66,
   "metadata": {},
   "outputs": [
    {
     "name": "stdout",
     "output_type": "stream",
     "text": [
      "rot_slam\n",
      " [[-0.14581752 -0.38486032  0.91138345]\n",
      " [ 0.03506363 -0.92266172 -0.38401289]\n",
      " [ 0.98868994 -0.0240394   0.14803484]]\n",
      "switch\n",
      " [[-0.16783656 -0.09288478  0.98142922]\n",
      " [ 0.00119259 -0.99556968 -0.09401912]\n",
      " [ 0.98581411 -0.01460941  0.16720376]]\n",
      "basis\n",
      " [[-0.16783656  0.09288478 -0.98142922]\n",
      " [ 0.00119259  0.99556968  0.09401912]\n",
      " [ 0.98581411  0.01460941 -0.16720376]]\n"
     ]
    }
   ],
   "source": [
    "import numpy as np\n",
    "import scipy.spatial.transform\n",
    "R = np.array([[0,1,0],\n",
    "                [0,0,-1],\n",
    "                [-1,0,0]])\n",
    "# load first line from ../output/gt_traj.txt\n",
    "def load_pose(path, n=10):\n",
    "    with open(path, 'r') as f:\n",
    "        for i in range(n):\n",
    "            line = f.readline()\n",
    "        # format: timestamp tx ty tz qx qy qz qw\n",
    "        data = np.array(line.split())\n",
    "        t = data[1:4]\n",
    "        q = data[4:]\n",
    "        rot = scipy.spatial.transform.Rotation.from_quat(q).as_matrix()\n",
    "    return rot, q, t\n",
    "\n",
    "rot_gt, q_gt, t_gt = load_pose('../output/tartanair/gt_traj.txt')\n",
    "rot_slam, q_slam, t_slam = load_pose('../output/tartanair/traj_viokf.txt')\n",
    "\n",
    "print('rot_slam\\n', rot_slam)\n",
    "\n",
    "tmp_q = q_gt[[1,2,0,3]]\n",
    "tmp_rot = scipy.spatial.transform.Rotation.from_quat(tmp_q).as_matrix()\n",
    "tmp_rot[1:3]*=-1\n",
    "print('switch\\n',tmp_rot)\n",
    "\n",
    "print('basis\\n',R@rot_gt@R.T)\n",
    "\n",
    "# R@rot_slam\n",
    "# R.T@rot_gt"
   ]
  },
  {
   "cell_type": "code",
   "execution_count": 44,
   "metadata": {},
   "outputs": [
    {
     "name": "stdout",
     "output_type": "stream",
     "text": [
      "99 -10.991665840148926 6.599874019622803 -9.707655906677246 -0.11223653703927994 0.03780491650104523 0.6449735760688782 0.7549720406532288\n",
      "\n",
      "420.000000 -15.915634 -27.540514 -223.936691 0.815763 0.153134 0.555781 -0.046783\n",
      "\n",
      "rot_slam\n",
      " [[-0.94872268  0.2465455   0.19783981]\n",
      " [ 0.09389021 -0.37783795  0.92109886]\n",
      " [ 0.30184417  0.8924426   0.33531522]]\n",
      "[[ 0.97194749 -0.20186252 -0.12070456]\n",
      " [-0.0876959   0.16515971 -0.98236027]\n",
      " [ 0.21823725  0.9653879   0.14282405]]\n",
      "[[ 0.97194749 -0.20186252 -0.12070456]\n",
      " [-0.0876959   0.16515971 -0.98236027]\n",
      " [ 0.21823725  0.9653879   0.14282405]]\n"
     ]
    }
   ],
   "source": [
    "import numpy as np\n",
    "import scipy.spatial.transform\n",
    "R = np.array([[0,1,0],\n",
    "                [0,0,1],\n",
    "                [1,0,0]])\n",
    "# load first line from ../output/gt_traj.txt\n",
    "def load_pose(path, n=100):\n",
    "    with open(path, 'r') as f:\n",
    "        for i in range(n):\n",
    "            line = f.readline()\n",
    "        # format: timestamp tx ty tz qx qy qz qw\n",
    "        print(line)\n",
    "        data = np.array(line.split())\n",
    "        t = data[1:4][[1,2,0]]\n",
    "        q = data[4:][[1,2,0,3]]\n",
    "        rot = scipy.spatial.transform.Rotation.from_quat(q).as_matrix()\n",
    "    return rot, q, t\n",
    "\n",
    "rot_gt, q_gt, t_gt = load_pose('../output/gt_traj.txt')\n",
    "rot_slam, q_slam, t_slam = load_pose('../output/traj_viokf.txt')\n",
    "\n",
    "print('rot_slam\\n', rot_slam)\n",
    "\n",
    "tmp_q = q_gt[[1,2,0,3]]\n",
    "tmp_rot = scipy.spatial.transform.Rotation.from_quat(tmp_q).as_matrix()\n",
    "print(tmp_rot)\n",
    "\n",
    "print(R@rot_gt@R.T)\n",
    "\n",
    "# R@rot_slam\n",
    "# R.T@rot_gt"
   ]
  }
 ],
 "metadata": {
  "kernelspec": {
   "display_name": "evo",
   "language": "python",
   "name": "python3"
  },
  "language_info": {
   "codemirror_mode": {
    "name": "ipython",
    "version": 3
   },
   "file_extension": ".py",
   "mimetype": "text/x-python",
   "name": "python",
   "nbconvert_exporter": "python",
   "pygments_lexer": "ipython3",
   "version": "3.7.16"
  }
 },
 "nbformat": 4,
 "nbformat_minor": 2
}
