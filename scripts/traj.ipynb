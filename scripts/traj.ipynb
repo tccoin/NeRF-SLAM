{
 "cells": [
  {
   "cell_type": "code",
   "execution_count": 9,
   "metadata": {},
   "outputs": [
    {
     "name": "stdout",
     "output_type": "stream",
     "text": [
      "--------------------------------------------------------------------------------\n",
      "name:\ttraj_viokf\n",
      "infos:\t500 poses, 116.171m path length, 1581.000s duration\n",
      "--------------------------------------------------------------------------------\n",
      "name:\tgt_traj\n",
      "infos:\t2761 poses, 2202.522m path length, 2760.000s duration\n",
      "^C\n"
     ]
    }
   ],
   "source": [
    "! evo_traj tum --ref ../output/gt_traj.txt ../output/traj_viokf.txt -p -as --plot_mode=xz"
   ]
  },
  {
   "cell_type": "code",
   "execution_count": null,
   "metadata": {},
   "outputs": [],
   "source": []
  }
 ],
 "metadata": {
  "kernelspec": {
   "display_name": "evo",
   "language": "python",
   "name": "python3"
  },
  "language_info": {
   "codemirror_mode": {
    "name": "ipython",
    "version": 3
   },
   "file_extension": ".py",
   "mimetype": "text/x-python",
   "name": "python",
   "nbconvert_exporter": "python",
   "pygments_lexer": "ipython3",
   "version": "3.7.16"
  }
 },
 "nbformat": 4,
 "nbformat_minor": 2
}
