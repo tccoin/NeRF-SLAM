{
 "cells": [
  {
   "cell_type": "code",
   "execution_count": 3,
   "metadata": {},
   "outputs": [
    {
     "name": "stdout",
     "output_type": "stream",
     "text": [
      "--------------------------------------------------------------------------------\n",
      "name:\ttraj_viokf\n",
      "infos:\t100 poses, 33.068m path length, 420.000s duration\n",
      "--------------------------------------------------------------------------------\n",
      "name:\tgt_traj\n",
      "infos:\t421 poses, 34.175m path length, 420.000s duration\n",
      "\u001b[0m"
     ]
    }
   ],
   "source": [
    "! evo_traj tum --ref ../output/gt_traj.txt ../output/traj_viokf.txt -p -as --plot_mode=xz"
   ]
  },
  {
   "cell_type": "code",
   "execution_count": 6,
   "metadata": {},
   "outputs": [
    {
     "name": "stdout",
     "output_type": "stream",
     "text": [
      "--------------------------------------------------------------------------------\n",
      "Loaded 100 stamps and poses from: ../output/traj_viokf.txt\n",
      "Loaded 421 stamps and poses from: ../output/gt_traj.txt\n",
      "--------------------------------------------------------------------------------\n",
      "Found 100 of max. 100 possible matching timestamps between...\n",
      "\treference\n",
      "and:\t../output/traj_viokf.txt\n",
      "..with max. time diff.: 0.01 (s) and time offset: 0.0 (s).\n",
      "--------------------------------------------------------------------------------\n",
      "Aligning ../output/traj_viokf.txt to reference.\n",
      "Aligning using Umeyama's method... (with scale correction)\n",
      "Rotation of alignment:\n",
      "[[-0.02293197  0.01741403 -0.99958535]\n",
      " [ 0.95372119 -0.29946895 -0.02709691]\n",
      " [-0.29981665 -0.95394711 -0.00974072]]\n",
      "Translation of alignment:\n",
      "[-13.92060931  -0.24112202 -11.66485755]\n",
      "Scale correction: 0.043980830227582056\n",
      "--------------------------------------------------------------------------------\n",
      "name:\ttraj_viokf\n",
      "infos:\n",
      "\tduration (s)\t420.0\n",
      "\tnr. of poses\t100\n",
      "\tpath length (m)\t33.067883694771936\n",
      "\tpos_end (m)\t[ -4.0808124   -0.27910196 -10.20358257]\n",
      "\tpos_start (m)\t[-13.94161601  -0.24344684 -11.6837962 ]\n",
      "\tt_end (s)\t420.0\n",
      "\tt_start (s)\t0.0\n",
      "--------------------------------------------------------------------------------\n",
      "name:\tgt_traj\n",
      "infos:\n",
      "\tduration (s)\t420.0\n",
      "\tnr. of poses\t421\n",
      "\tpath length (m)\t34.17458655675786\n",
      "\tpos_end (m)\t[ -4.04904366  -0.30859008 -10.19789124]\n",
      "\tpos_start (m)\t[-14.54892635  -0.29798096 -11.65369701]\n",
      "\tt_end (s)\t420.0\n",
      "\tt_start (s)\t0.0\n",
      "\u001b[0m"
     ]
    }
   ],
   "source": [
    "!LOGGING_LEVEL=DEBUG evo_traj tum --ref ../output/gt_traj.txt ../output/traj_viokf.txt -as -v"
   ]
  },
  {
   "cell_type": "code",
   "execution_count": 66,
   "metadata": {},
   "outputs": [
    {
     "name": "stdout",
     "output_type": "stream",
     "text": [
      "rot_slam\n",
      " [[-0.14581752 -0.38486032  0.91138345]\n",
      " [ 0.03506363 -0.92266172 -0.38401289]\n",
      " [ 0.98868994 -0.0240394   0.14803484]]\n",
      "switch\n",
      " [[-0.16783656 -0.09288478  0.98142922]\n",
      " [ 0.00119259 -0.99556968 -0.09401912]\n",
      " [ 0.98581411 -0.01460941  0.16720376]]\n",
      "basis\n",
      " [[-0.16783656  0.09288478 -0.98142922]\n",
      " [ 0.00119259  0.99556968  0.09401912]\n",
      " [ 0.98581411  0.01460941 -0.16720376]]\n"
     ]
    }
   ],
   "source": [
    "import numpy as np\n",
    "import scipy.spatial.transform\n",
    "R = np.array([[0,1,0],\n",
    "                [0,0,-1],\n",
    "                [-1,0,0]])\n",
    "# load first line from ../output/gt_traj.txt\n",
    "def load_pose(path, n=10):\n",
    "    with open(path, 'r') as f:\n",
    "        for i in range(n):\n",
    "            line = f.readline()\n",
    "        # format: timestamp tx ty tz qx qy qz qw\n",
    "        data = np.array(line.split())\n",
    "        t = data[1:4]\n",
    "        q = data[4:]\n",
    "        rot = scipy.spatial.transform.Rotation.from_quat(q).as_matrix()\n",
    "    return rot, q, t\n",
    "\n",
    "rot_gt, q_gt, t_gt = load_pose('../output/tartanair/gt_traj.txt')\n",
    "rot_slam, q_slam, t_slam = load_pose('../output/tartanair/traj_viokf.txt')\n",
    "\n",
    "print('rot_slam\\n', rot_slam)\n",
    "\n",
    "tmp_q = q_gt[[1,2,0,3]]\n",
    "tmp_rot = scipy.spatial.transform.Rotation.from_quat(tmp_q).as_matrix()\n",
    "tmp_rot[1:3]*=-1\n",
    "print('switch\\n',tmp_rot)\n",
    "\n",
    "print('basis\\n',R@rot_gt@R.T)\n",
    "\n",
    "# R@rot_slam\n",
    "# R.T@rot_gt"
   ]
  },
  {
   "cell_type": "code",
   "execution_count": 44,
   "metadata": {},
   "outputs": [
    {
     "name": "stdout",
     "output_type": "stream",
     "text": [
      "99 -10.991665840148926 6.599874019622803 -9.707655906677246 -0.11223653703927994 0.03780491650104523 0.6449735760688782 0.7549720406532288\n",
      "\n",
      "420.000000 -15.915634 -27.540514 -223.936691 0.815763 0.153134 0.555781 -0.046783\n",
      "\n",
      "rot_slam\n",
      " [[-0.94872268  0.2465455   0.19783981]\n",
      " [ 0.09389021 -0.37783795  0.92109886]\n",
      " [ 0.30184417  0.8924426   0.33531522]]\n",
      "[[ 0.97194749 -0.20186252 -0.12070456]\n",
      " [-0.0876959   0.16515971 -0.98236027]\n",
      " [ 0.21823725  0.9653879   0.14282405]]\n",
      "[[ 0.97194749 -0.20186252 -0.12070456]\n",
      " [-0.0876959   0.16515971 -0.98236027]\n",
      " [ 0.21823725  0.9653879   0.14282405]]\n"
     ]
    }
   ],
   "source": [
    "import numpy as np\n",
    "import scipy.spatial.transform\n",
    "R = np.array([[0,1,0],\n",
    "                [0,0,1],\n",
    "                [1,0,0]])\n",
    "# load first line from ../output/gt_traj.txt\n",
    "def load_pose(path, n=100):\n",
    "    with open(path, 'r') as f:\n",
    "        for i in range(n):\n",
    "            line = f.readline()\n",
    "        # format: timestamp tx ty tz qx qy qz qw\n",
    "        print(line)\n",
    "        data = np.array(line.split())\n",
    "        t = data[1:4][[1,2,0]]\n",
    "        q = data[4:][[1,2,0,3]]\n",
    "        rot = scipy.spatial.transform.Rotation.from_quat(q).as_matrix()\n",
    "    return rot, q, t\n",
    "\n",
    "rot_gt, q_gt, t_gt = load_pose('../output/gt_traj.txt')\n",
    "rot_slam, q_slam, t_slam = load_pose('../output/traj_viokf.txt')\n",
    "\n",
    "print('rot_slam\\n', rot_slam)\n",
    "\n",
    "tmp_q = q_gt[[1,2,0,3]]\n",
    "tmp_rot = scipy.spatial.transform.Rotation.from_quat(tmp_q).as_matrix()\n",
    "print(tmp_rot)\n",
    "\n",
    "print(R@rot_gt@R.T)\n",
    "\n",
    "# R@rot_slam\n",
    "# R.T@rot_gt"
   ]
  }
 ],
 "metadata": {
  "kernelspec": {
   "display_name": "evo",
   "language": "python",
   "name": "python3"
  },
  "language_info": {
   "codemirror_mode": {
    "name": "ipython",
    "version": 3
   },
   "file_extension": ".py",
   "mimetype": "text/x-python",
   "name": "python",
   "nbconvert_exporter": "python",
   "pygments_lexer": "ipython3",
   "version": "3.7.16"
  }
 },
 "nbformat": 4,
 "nbformat_minor": 2
}
