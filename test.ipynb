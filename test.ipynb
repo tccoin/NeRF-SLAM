{
 "cells": [
  {
   "cell_type": "code",
   "execution_count": 1,
   "metadata": {},
   "outputs": [],
   "source": [
    "import cv2"
   ]
  },
  {
   "cell_type": "code",
   "execution_count": 4,
   "metadata": {},
   "outputs": [
    {
     "data": {
      "text/plain": [
       "array([[[100, 102,  99],\n",
       "        [102, 103,  99],\n",
       "        [103, 104,  99],\n",
       "        ...,\n",
       "        [100, 106,  89],\n",
       "        [ 98, 103,  87],\n",
       "        [ 99, 102,  87]],\n",
       "\n",
       "       [[100, 102,  96],\n",
       "        [100, 101,  96],\n",
       "        [100, 102,  97],\n",
       "        ...,\n",
       "        [102, 103,  89],\n",
       "        [ 99,  97,  88],\n",
       "        [ 99,  97,  89]],\n",
       "\n",
       "       [[ 98, 101,  92],\n",
       "        [ 98, 101,  93],\n",
       "        [ 98, 101,  93],\n",
       "        ...,\n",
       "        [104, 100,  93],\n",
       "        [107,  99,  97],\n",
       "        [106,  98,  96]],\n",
       "\n",
       "       ...,\n",
       "\n",
       "       [[ 90,  94,  89],\n",
       "        [ 93,  99,  93],\n",
       "        [ 94, 101,  95],\n",
       "        ...,\n",
       "        [ 89,  88,  73],\n",
       "        [ 91,  90,  75],\n",
       "        [ 92,  91,  76]],\n",
       "\n",
       "       [[ 90,  96,  91],\n",
       "        [ 91,  97,  93],\n",
       "        [ 91,  97,  93],\n",
       "        ...,\n",
       "        [ 90,  89,  74],\n",
       "        [ 91,  90,  74],\n",
       "        [ 93,  92,  76]],\n",
       "\n",
       "       [[ 89,  96,  94],\n",
       "        [ 88,  93,  93],\n",
       "        [ 90,  94,  95],\n",
       "        ...,\n",
       "        [ 93,  91,  76],\n",
       "        [ 94,  90,  75],\n",
       "        [ 93,  89,  74]]], dtype=uint8)"
      ]
     },
     "execution_count": 4,
     "metadata": {},
     "output_type": "execute_result"
    }
   ],
   "source": [
    "cv2.imread('/home/junzhe/dataset/underwater_cave/undistorted_frames/frame_ud_000001.png')"
   ]
  },
  {
   "cell_type": "code",
   "execution_count": null,
   "metadata": {},
   "outputs": [],
   "source": []
  }
 ],
 "metadata": {
  "kernelspec": {
   "display_name": "evo",
   "language": "python",
   "name": "python3"
  },
  "language_info": {
   "codemirror_mode": {
    "name": "ipython",
    "version": 3
   },
   "file_extension": ".py",
   "mimetype": "text/x-python",
   "name": "python",
   "nbconvert_exporter": "python",
   "pygments_lexer": "ipython3",
   "version": "3.9.18"
  }
 },
 "nbformat": 4,
 "nbformat_minor": 2
}
